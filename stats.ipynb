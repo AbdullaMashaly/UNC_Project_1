{
 "cells": [
  {
   "cell_type": "code",
   "execution_count": 9,
   "metadata": {},
   "outputs": [],
   "source": [
    "from pathlib import Path\n",
    "import pandas as pd\n",
    "import scipy.stats as stats\n",
    "import numpy as np"
   ]
  },
  {
   "cell_type": "code",
   "execution_count": 10,
   "metadata": {},
   "outputs": [
    {
     "data": {
      "text/html": [
       "<div>\n",
       "<style scoped>\n",
       "    .dataframe tbody tr th:only-of-type {\n",
       "        vertical-align: middle;\n",
       "    }\n",
       "\n",
       "    .dataframe tbody tr th {\n",
       "        vertical-align: top;\n",
       "    }\n",
       "\n",
       "    .dataframe thead th {\n",
       "        text-align: right;\n",
       "    }\n",
       "</style>\n",
       "<table border=\"1\" class=\"dataframe\">\n",
       "  <thead>\n",
       "    <tr style=\"text-align: right;\">\n",
       "      <th></th>\n",
       "      <th>Number Insured</th>\n",
       "      <th>Number Uninsured</th>\n",
       "      <th>Income Category</th>\n",
       "      <th>County</th>\n",
       "      <th>Percentage Insured</th>\n",
       "      <th>Percentage Uninsured</th>\n",
       "    </tr>\n",
       "  </thead>\n",
       "  <tbody>\n",
       "    <tr>\n",
       "      <th>0</th>\n",
       "      <td>40193</td>\n",
       "      <td>2507</td>\n",
       "      <td>Over 400% of Poverty</td>\n",
       "      <td>Alamance County, NC</td>\n",
       "      <td>94.128806</td>\n",
       "      <td>5.871194</td>\n",
       "    </tr>\n",
       "    <tr>\n",
       "      <th>1</th>\n",
       "      <td>27025</td>\n",
       "      <td>3960</td>\n",
       "      <td>250% to 400% of Poverty</td>\n",
       "      <td>Alamance County, NC</td>\n",
       "      <td>87.219622</td>\n",
       "      <td>12.780378</td>\n",
       "    </tr>\n",
       "    <tr>\n",
       "      <th>2</th>\n",
       "      <td>9624</td>\n",
       "      <td>2305</td>\n",
       "      <td>200% to 250% of Poverty</td>\n",
       "      <td>Alamance County, NC</td>\n",
       "      <td>80.677341</td>\n",
       "      <td>19.322659</td>\n",
       "    </tr>\n",
       "    <tr>\n",
       "      <th>3</th>\n",
       "      <td>12797</td>\n",
       "      <td>3519</td>\n",
       "      <td>138% to 200% of Poverty</td>\n",
       "      <td>Alamance County, NC</td>\n",
       "      <td>78.432214</td>\n",
       "      <td>21.567786</td>\n",
       "    </tr>\n",
       "    <tr>\n",
       "      <th>4</th>\n",
       "      <td>24827</td>\n",
       "      <td>7531</td>\n",
       "      <td>Under 138% of Poverty</td>\n",
       "      <td>Alamance County, NC</td>\n",
       "      <td>76.726003</td>\n",
       "      <td>23.273997</td>\n",
       "    </tr>\n",
       "    <tr>\n",
       "      <th>...</th>\n",
       "      <td>...</td>\n",
       "      <td>...</td>\n",
       "      <td>...</td>\n",
       "      <td>...</td>\n",
       "      <td>...</td>\n",
       "      <td>...</td>\n",
       "    </tr>\n",
       "    <tr>\n",
       "      <th>495</th>\n",
       "      <td>40193</td>\n",
       "      <td>2507</td>\n",
       "      <td>Over 400% of Poverty</td>\n",
       "      <td>Yancey County, NC</td>\n",
       "      <td>94.128806</td>\n",
       "      <td>5.871194</td>\n",
       "    </tr>\n",
       "    <tr>\n",
       "      <th>496</th>\n",
       "      <td>27025</td>\n",
       "      <td>3960</td>\n",
       "      <td>250% to 400% of Poverty</td>\n",
       "      <td>Yancey County, NC</td>\n",
       "      <td>87.219622</td>\n",
       "      <td>12.780378</td>\n",
       "    </tr>\n",
       "    <tr>\n",
       "      <th>497</th>\n",
       "      <td>9624</td>\n",
       "      <td>2305</td>\n",
       "      <td>200% to 250% of Poverty</td>\n",
       "      <td>Yancey County, NC</td>\n",
       "      <td>80.677341</td>\n",
       "      <td>19.322659</td>\n",
       "    </tr>\n",
       "    <tr>\n",
       "      <th>498</th>\n",
       "      <td>12797</td>\n",
       "      <td>3519</td>\n",
       "      <td>138% to 200% of Poverty</td>\n",
       "      <td>Yancey County, NC</td>\n",
       "      <td>78.432214</td>\n",
       "      <td>21.567786</td>\n",
       "    </tr>\n",
       "    <tr>\n",
       "      <th>499</th>\n",
       "      <td>24827</td>\n",
       "      <td>7531</td>\n",
       "      <td>Under 138% of Poverty</td>\n",
       "      <td>Yancey County, NC</td>\n",
       "      <td>76.726003</td>\n",
       "      <td>23.273997</td>\n",
       "    </tr>\n",
       "  </tbody>\n",
       "</table>\n",
       "<p>500 rows × 6 columns</p>\n",
       "</div>"
      ],
      "text/plain": [
       "     Number Insured  Number Uninsured          Income Category  \\\n",
       "0             40193              2507     Over 400% of Poverty   \n",
       "1             27025              3960  250% to 400% of Poverty   \n",
       "2              9624              2305  200% to 250% of Poverty   \n",
       "3             12797              3519  138% to 200% of Poverty   \n",
       "4             24827              7531    Under 138% of Poverty   \n",
       "..              ...               ...                      ...   \n",
       "495           40193              2507     Over 400% of Poverty   \n",
       "496           27025              3960  250% to 400% of Poverty   \n",
       "497            9624              2305  200% to 250% of Poverty   \n",
       "498           12797              3519  138% to 200% of Poverty   \n",
       "499           24827              7531    Under 138% of Poverty   \n",
       "\n",
       "                  County  Percentage Insured  Percentage Uninsured  \n",
       "0    Alamance County, NC           94.128806              5.871194  \n",
       "1    Alamance County, NC           87.219622             12.780378  \n",
       "2    Alamance County, NC           80.677341             19.322659  \n",
       "3    Alamance County, NC           78.432214             21.567786  \n",
       "4    Alamance County, NC           76.726003             23.273997  \n",
       "..                   ...                 ...                   ...  \n",
       "495    Yancey County, NC           94.128806              5.871194  \n",
       "496    Yancey County, NC           87.219622             12.780378  \n",
       "497    Yancey County, NC           80.677341             19.322659  \n",
       "498    Yancey County, NC           78.432214             21.567786  \n",
       "499    Yancey County, NC           76.726003             23.273997  \n",
       "\n",
       "[500 rows x 6 columns]"
      ]
     },
     "execution_count": 10,
     "metadata": {},
     "output_type": "execute_result"
    }
   ],
   "source": [
    "path = Path(\"clean_insurance_by_income.csv\")\n",
    "\n",
    "ins_cov_df = pd.read_csv(path)\n",
    "ins_cov_df"
   ]
  },
  {
   "cell_type": "code",
   "execution_count": 11,
   "metadata": {},
   "outputs": [],
   "source": [
    "# ins_cov_df.rename(columns = {\"Number Insured\": \"number_insured\"})"
   ]
  },
  {
   "cell_type": "code",
   "execution_count": 12,
   "metadata": {},
   "outputs": [
    {
     "data": {
      "text/plain": [
       "40193.0"
      ]
     },
     "execution_count": 12,
     "metadata": {},
     "output_type": "execute_result"
    }
   ],
   "source": [
    "high_income = ins_cov_df[ins_cov_df[\"Income Category\"] == \"Over 400% of Poverty\"]\n",
    "high_income[\"Number Insured\"].mean()"
   ]
  },
  {
   "cell_type": "code",
   "execution_count": 13,
   "metadata": {},
   "outputs": [
    {
     "data": {
      "text/plain": [
       "40193.0"
      ]
     },
     "execution_count": 13,
     "metadata": {},
     "output_type": "execute_result"
    }
   ],
   "source": [
    "low_income = ins_cov_df[ins_cov_df[\"Income Category\"] == \"Over 400% of Poverty\"]\n",
    "low_income[\"Number Insured\"].mean()"
   ]
  },
  {
   "cell_type": "code",
   "execution_count": 14,
   "metadata": {},
   "outputs": [
    {
     "name": "stderr",
     "output_type": "stream",
     "text": [
      "/var/folders/k6/d0216ry509x6j4ccbxwt_cmc0000gn/T/ipykernel_30988/3293946177.py:1: RuntimeWarning: Precision loss occurred in moment calculation due to catastrophic cancellation. This occurs when the data are nearly identical. Results may be unreliable.\n",
      "  stats.ttest_ind(high_income[\"Number Insured\"], low_income[\"Number Insured\"], equal_var=False)\n"
     ]
    },
    {
     "data": {
      "text/plain": [
       "Ttest_indResult(statistic=nan, pvalue=nan)"
      ]
     },
     "execution_count": 14,
     "metadata": {},
     "output_type": "execute_result"
    }
   ],
   "source": [
    "stats.ttest_ind(high_income[\"Number Insured\"], low_income[\"Number Insured\"], equal_var=False)\n",
    "# np.errstate"
   ]
  }
 ],
 "metadata": {
  "kernelspec": {
   "display_name": "dev",
   "language": "python",
   "name": "python3"
  },
  "language_info": {
   "codemirror_mode": {
    "name": "ipython",
    "version": 3
   },
   "file_extension": ".py",
   "mimetype": "text/x-python",
   "name": "python",
   "nbconvert_exporter": "python",
   "pygments_lexer": "ipython3",
   "version": "3.10.11"
  },
  "orig_nbformat": 4
 },
 "nbformat": 4,
 "nbformat_minor": 2
}
